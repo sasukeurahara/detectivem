{
 "cells": [
  {
   "cell_type": "code",
   "execution_count": 1,
   "metadata": {},
   "outputs": [],
   "source": [
    "import os\n",
    "from PIL import Image\n",
    "import numpy as np"
   ]
  },
  {
   "cell_type": "code",
   "execution_count": 5,
   "metadata": {},
   "outputs": [],
   "source": [
    "# Function to convert binary data to a 1028x1028 image\n",
    "def binary_to_image(data, output_path):\n",
    "    # Calculate the number of pixels needed\n",
    "    num_pixels = (len(data) + 2) // 3  # Total pixels (each pixel needs 3 bytes for RGB)\n",
    "    \n",
    "    # Calculate the dimensions of the square image\n",
    "    image_size = int(np.ceil(np.sqrt(num_pixels)))\n",
    "    \n",
    "    # Create a padded array\n",
    "    padded_data = np.zeros(image_size * image_size * 3, dtype=np.uint8)\n",
    "    padded_data[:len(data)] = np.frombuffer(data, dtype=np.uint8)\n",
    "    \n",
    "    # Reshape the padded data to an image array\n",
    "    image_array = padded_data.reshape((image_size, image_size, 3))\n",
    "    \n",
    "    # Convert to a PIL image\n",
    "    image = Image.fromarray(image_array)\n",
    "    \n",
    "    # Resize the image to 1028x1028\n",
    "    image = image.resize((500,500), Image.Resampling.LANCZOS)\n",
    "    image.save(output_path)\n"
   ]
  },
  {
   "cell_type": "code",
   "execution_count": 6,
   "metadata": {},
   "outputs": [],
   "source": [
    "if __name__ == \"__main__\":\n",
    "    input_directory = \"data/good\"  # Replace with your input directory path\n",
    "    output_directory = \"data500/good\"  # Replace with your output directory path\n",
    "    \n",
    "    process_files(input_directory, output_directory)"
   ]
  },
  {
   "cell_type": "code",
   "execution_count": 7,
   "metadata": {},
   "outputs": [],
   "source": [
    "if __name__ == \"__main__\":\n",
    "    input_directory = \"data/bad\"  # Replace with your input directory path\n",
    "    output_directory = \"data500/bad\"  # Replace with your output directory path\n",
    "    \n",
    "    process_files(input_directory, output_directory)"
   ]
  },
  {
   "cell_type": "code",
   "execution_count": null,
   "metadata": {},
   "outputs": [],
   "source": []
  }
 ],
 "metadata": {
  "kernelspec": {
   "display_name": "myenv",
   "language": "python",
   "name": "python3"
  },
  "language_info": {
   "codemirror_mode": {
    "name": "ipython",
    "version": 3
   },
   "file_extension": ".py",
   "mimetype": "text/x-python",
   "name": "python",
   "nbconvert_exporter": "python",
   "pygments_lexer": "ipython3",
   "version": "3.9.19"
  }
 },
 "nbformat": 4,
 "nbformat_minor": 2
}
